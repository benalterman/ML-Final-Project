{
  "nbformat": 4,
  "nbformat_minor": 0,
  "metadata": {
    "colab": {
      "name": "CSC 3730 ML Final Project",
      "provenance": [],
      "collapsed_sections": []
    },
    "kernelspec": {
      "name": "python3",
      "display_name": "Python 3"
    }
  },
  "cells": [
    {
      "cell_type": "markdown",
      "metadata": {
        "id": "5sl6xImaz0jK"
      },
      "source": [
        "\n",
        "\n",
        "\n",
        "Benjamin Alterman, Adam Kardorff, Jorie Noll, Uluc Ozdenvar\n",
        "\n"
      ]
    },
    {
      "cell_type": "markdown",
      "metadata": {
        "id": "P44E76pJ2hlN"
      },
      "source": [
        "# **Handwritten Text Recognition using Neural Networks**"
      ]
    },
    {
      "cell_type": "code",
      "metadata": {
        "id": "qj6O6BYYzy5d"
      },
      "source": [
        "# imports\n",
        "import numpy as np\n",
        "import matplotlib.pyplot as plt\n",
        "import tensorflow as tf\n",
        "from sklearn.metrics import confusion_matrix\n",
        "import itertools"
      ],
      "execution_count": null,
      "outputs": []
    },
    {
      "cell_type": "code",
      "metadata": {
        "id": "GkAQLrfx29y3"
      },
      "source": [
        "# data source is MNIST of handwritten digits http://yann.lecun.com/exdb/mnist/\n",
        "# prepare data for model\n",
        "objects =  tf.keras.datasets.mnist\n",
        "(training_images, training_labels), (test_images, test_labels) = objects.load_data()\n",
        "class_names = [0, 1, 2, 3, 4, 5, 6, 7, 8, 9]"
      ],
      "execution_count": null,
      "outputs": []
    },
    {
      "cell_type": "code",
      "metadata": {
        "id": "se0TbRaT3Lns",
        "colab": {
          "base_uri": "https://localhost:8080/",
          "height": 268
        },
        "outputId": "40358be1-c16a-42e4-bf9a-5fbd5e46fc9a"
      },
      "source": [
        "# iterate through images dataset and print samples\n",
        "for i in range(9):\n",
        "\t# define subplot\n",
        "\tplt.subplot(330 + 1 + i)\n",
        "\t# plot raw pixel data\n",
        "\tplt.imshow(training_images[i])"
      ],
      "execution_count": null,
      "outputs": [
        {
          "output_type": "display_data",
          "data": {
            "image/png": "[encoded data removed]",
            "text/plain": [
              "<Figure size 432x288 with 9 Axes>"
            ]
          },
          "metadata": {
            "tags": [],
            "needs_background": "light"
          }
        }
      ]
    },
    {
      "cell_type": "code",
      "metadata": {
        "colab": {
          "base_uri": "https://localhost:8080/"
        },
        "id": "cqzPOFIRJ38W",
        "outputId": "fe470b8d-2ca2-4ab6-ef98-590a21ad1697"
      },
      "source": [
        "# print the matrix holding the training images data\n",
        "# 60000 training images and 10000 testing images that are 28x28 pixels\n",
        "# minimum value in matrix is 0 and maximum is 255 representing color of pixel\n",
        "print(training_images.shape)\n",
        "# print the the array\n",
        "print(training_images[0])"
      ],
      "execution_count": null,
      "outputs": [
        {
          "output_type": "stream",
          "text": [
            "(60000, 28, 28)\n",
            "[[  0   0   0   0   0   0   0   0   0   0   0   0   0   0   0   0   0   0\n",
            "    0   0   0   0   0   0   0   0   0   0]\n",
            " [  0   0   0   0   0   0   0   0   0   0   0   0   0   0   0   0   0   0\n",
            "    0   0   0   0   0   0   0   0   0   0]\n",
            " [  0   0   0   0   0   0   0   0   0   0   0   0   0   0   0   0   0   0\n",
            "    0   0   0   0   0   0   0   0   0   0]\n",
            " [  0   0   0   0   0   0   0   0   0   0   0   0   0   0   0   0   0   0\n",
            "    0   0   0   0   0   0   0   0   0   0]\n",
            " [  0   0   0   0   0   0   0   0   0   0   0   0   0   0   0   0   0   0\n",
            "    0   0   0   0   0   0   0   0   0   0]\n",
            " [  0   0   0   0   0   0   0   0   0   0   0   0   3  18  18  18 126 136\n",
            "  175  26 166 255 247 127   0   0   0   0]\n",
            " [  0   0   0   0   0   0   0   0  30  36  94 154 170 253 253 253 253 253\n",
            "  225 172 253 242 195  64   0   0   0   0]\n",
            " [  0   0   0   0   0   0   0  49 238 253 253 253 253 253 253 253 253 251\n",
            "   93  82  82  56  39   0   0   0   0   0]\n",
            " [  0   0   0   0   0   0   0  18 219 253 253 253 253 253 198 182 247 241\n",
            "    0   0   0   0   0   0   0   0   0   0]\n",
            " [  0   0   0   0   0   0   0   0  80 156 107 253 253 205  11   0  43 154\n",
            "    0   0   0   0   0   0   0   0   0   0]\n",
            " [  0   0   0   0   0   0   0   0   0  14   1 154 253  90   0   0   0   0\n",
            "    0   0   0   0   0   0   0   0   0   0]\n",
            " [  0   0   0   0   0   0   0   0   0   0   0 139 253 190   2   0   0   0\n",
            "    0   0   0   0   0   0   0   0   0   0]\n",
            " [  0   0   0   0   0   0   0   0   0   0   0  11 190 253  70   0   0   0\n",
            "    0   0   0   0   0   0   0   0   0   0]\n",
            " [  0   0   0   0   0   0   0   0   0   0   0   0  35 241 225 160 108   1\n",
            "    0   0   0   0   0   0   0   0   0   0]\n",
            " [  0   0   0   0   0   0   0   0   0   0   0   0   0  81 240 253 253 119\n",
            "   25   0   0   0   0   0   0   0   0   0]\n",
            " [  0   0   0   0   0   0   0   0   0   0   0   0   0   0  45 186 253 253\n",
            "  150  27   0   0   0   0   0   0   0   0]\n",
            " [  0   0   0   0   0   0   0   0   0   0   0   0   0   0   0  16  93 252\n",
            "  253 187   0   0   0   0   0   0   0   0]\n",
            " [  0   0   0   0   0   0   0   0   0   0   0   0   0   0   0   0   0 249\n",
            "  253 249  64   0   0   0   0   0   0   0]\n",
            " [  0   0   0   0   0   0   0   0   0   0   0   0   0   0  46 130 183 253\n",
            "  253 207   2   0   0   0   0   0   0   0]\n",
            " [  0   0   0   0   0   0   0   0   0   0   0   0  39 148 229 253 253 253\n",
            "  250 182   0   0   0   0   0   0   0   0]\n",
            " [  0   0   0   0   0   0   0   0   0   0  24 114 221 253 253 253 253 201\n",
            "   78   0   0   0   0   0   0   0   0   0]\n",
            " [  0   0   0   0   0   0   0   0  23  66 213 253 253 253 253 198  81   2\n",
            "    0   0   0   0   0   0   0   0   0   0]\n",
            " [  0   0   0   0   0   0  18 171 219 253 253 253 253 195  80   9   0   0\n",
            "    0   0   0   0   0   0   0   0   0   0]\n",
            " [  0   0   0   0  55 172 226 253 253 253 253 244 133  11   0   0   0   0\n",
            "    0   0   0   0   0   0   0   0   0   0]\n",
            " [  0   0   0   0 136 253 253 253 212 135 132  16   0   0   0   0   0   0\n",
            "    0   0   0   0   0   0   0   0   0   0]\n",
            " [  0   0   0   0   0   0   0   0   0   0   0   0   0   0   0   0   0   0\n",
            "    0   0   0   0   0   0   0   0   0   0]\n",
            " [  0   0   0   0   0   0   0   0   0   0   0   0   0   0   0   0   0   0\n",
            "    0   0   0   0   0   0   0   0   0   0]\n",
            " [  0   0   0   0   0   0   0   0   0   0   0   0   0   0   0   0   0   0\n",
            "    0   0   0   0   0   0   0   0   0   0]]\n"
          ],
          "name": "stdout"
        }
      ]
    },
    {
      "cell_type": "code",
      "metadata": {
        "id": "cfPfFjhAKe4K"
      },
      "source": [
        "# normalize data to a range of 0 to 1 to increase speed of the model\n",
        "training_images  = training_images / 255.0\n",
        "test_images = test_images / 255.0"
      ],
      "execution_count": null,
      "outputs": []
    },
    {
      "cell_type": "code",
      "metadata": {
        "id": "qSpvkLhNKyL-"
      },
      "source": [
        "# build the neural network using sequential layers of neurons\n",
        "\"\"\"A Sequential model is appropriate for a plain stack of layers where each layer has exactly one input tensor and one output tensor.\n",
        "Flatten input 2d shape into 1 dimension. The dense layer ensures that each neuron in previous layer is connected to a neuron in \n",
        "the next layer. 128 neurons were selected for the hidden layer. The rectified linear activation function or ReLU for short is a piecewise \n",
        "linear function that will output the input directly if it is positive, otherwise, it will output zero. \n",
        "The main advantage of using the ReLU function over other activation functions is that it does not activate all the neurons at the same time.\n",
        "10 neurons in the output layer for 10 classes from 0-9. The softmax function is a function that turns a vector \n",
        "of K real values into a vector of K real values that sum to 1. The input values can be positive, negative, zero, or \n",
        "greater than one, but the softmax transforms them into values between 0 and 1, so that they can be interpreted as probabilities. \n",
        "It is a form of multiclass logistic regression.\"\"\"\n",
        "model = tf.keras.models.Sequential([tf.keras.layers.Flatten(input_shape=(28,28)), \n",
        "                                    tf.keras.layers.Dense(128, activation='relu'), \n",
        "                                    tf.keras.layers.Dense(10, activation=tf.nn.softmax)])"
      ],
      "execution_count": null,
      "outputs": []
    },
    {
      "cell_type": "code",
      "metadata": {
        "id": "_-pXllF7Mk9V"
      },
      "source": [
        "# compile the Keras model\n",
        "\"\"\"Adam optimization is a stochastic gradient descent method that is based on adaptive estimation of first-order and second-order moments.\n",
        "Sparse Categorical Crossentropy computes the crossentropy loss between the labels and predictions.\"\"\"\n",
        "model.compile(optimizer = 'adam',\n",
        "              loss = 'sparse_categorical_crossentropy',\n",
        "              metrics=['accuracy'])"
      ],
      "execution_count": null,
      "outputs": []
    },
    {
      "cell_type": "code",
      "metadata": {
        "colab": {
          "base_uri": "https://localhost:8080/"
        },
        "id": "vHC64xp0QyF7",
        "outputId": "f107eb72-af93-4afe-a864-e9fee5f9eccb"
      },
      "source": [
        "# fit the model to the training data\n",
        "\"\"\"An epoch refers to one iteration through the training data. Accuracy reaches 99% in the 7th epoch.\"\"\"\n",
        "model.fit(training_images, training_labels, epochs=7)"
      ],
      "execution_count": null,
      "outputs": [
        {
          "output_type": "stream",
          "text": [
            "Epoch 1/7\n",
            "1875/1875 [==============================] - 3s 2ms/step - loss: 0.2579 - accuracy: 0.9258\n",
            "Epoch 2/7\n",
            "1875/1875 [==============================] - 3s 2ms/step - loss: 0.1141 - accuracy: 0.9663\n",
            "Epoch 3/7\n",
            "1875/1875 [==============================] - 3s 2ms/step - loss: 0.0788 - accuracy: 0.9764\n",
            "Epoch 4/7\n",
            "1875/1875 [==============================] - 3s 2ms/step - loss: 0.0582 - accuracy: 0.9821\n",
            "Epoch 5/7\n",
            "1875/1875 [==============================] - 3s 2ms/step - loss: 0.0452 - accuracy: 0.9858\n",
            "Epoch 6/7\n",
            "1875/1875 [==============================] - 3s 2ms/step - loss: 0.0354 - accuracy: 0.9889\n",
            "Epoch 7/7\n",
            "1875/1875 [==============================] - 3s 2ms/step - loss: 0.0285 - accuracy: 0.9915\n"
          ],
          "name": "stdout"
        },
        {
          "output_type": "execute_result",
          "data": {
            "text/plain": [
              "<tensorflow.python.keras.callbacks.History at 0x7f46d7139e48>"
            ]
          },
          "metadata": {
            "tags": []
          },
          "execution_count": 8
        }
      ]
    },
    {
      "cell_type": "code",
      "metadata": {
        "colab": {
          "base_uri": "https://localhost:8080/"
        },
        "id": "LF9OjS0aRzru",
        "outputId": "46de608b-3b93-471f-db98-52350faf90e1"
      },
      "source": [
        "# evaluate model on the held out testing data and print the accuracy\n",
        "print(model.evaluate(test_images,test_labels))"
      ],
      "execution_count": null,
      "outputs": [
        {
          "output_type": "stream",
          "text": [
            "313/313 [==============================] - 0s 1ms/step - loss: 0.0809 - accuracy: 0.9772\n",
            "[0.08094623684883118, 0.9771999716758728]\n"
          ],
          "name": "stdout"
        }
      ]
    },
    {
      "cell_type": "code",
      "metadata": {
        "colab": {
          "base_uri": "https://localhost:8080/",
          "height": 282
        },
        "id": "0aApNX26adEZ",
        "outputId": "eb9f1fc0-9651-474c-a9ee-bd857a2464df"
      },
      "source": [
        "# select image from testing data from 0-9999\n",
        "plt.imshow(test_images[3000])"
      ],
      "execution_count": null,
      "outputs": [
        {
          "output_type": "execute_result",
          "data": {
            "text/plain": [
              "<matplotlib.image.AxesImage at 0x7f46ceaff8d0>"
            ]
          },
          "metadata": {
            "tags": []
          },
          "execution_count": 10
        },
        {
          "output_type": "display_data",
          "data": {
            "image/png": "[encoded data removed]",
            "text/plain": [
              "<Figure size 432x288 with 1 Axes>"
            ]
          },
          "metadata": {
            "tags": [],
            "needs_background": "light"
          }
        }
      ]
    },
    {
      "cell_type": "code",
      "metadata": {
        "colab": {
          "base_uri": "https://localhost:8080/"
        },
        "id": "Nk5cwdxtaeDG",
        "outputId": "64a1cbfd-8203-4a4d-e7da-20494990011e"
      },
      "source": [
        "# run model to predict the number of the image\n",
        "prediction=model.predict(test_images)\n",
        "\"\"\"np.argmax finds the neuron with the highest probability.\"\"\"\n",
        "print(\"The number is:\", np.argmax(prediction[3000]))"
      ],
      "execution_count": null,
      "outputs": [
        {
          "output_type": "stream",
          "text": [
            "The number is: 6\n"
          ],
          "name": "stdout"
        }
      ]
    },
    {
      "cell_type": "code",
      "metadata": {
        "colab": {
          "base_uri": "https://localhost:8080/",
          "height": 282
        },
        "id": "qSX8zZFkaRz1",
        "outputId": "f9a6322c-3e05-426c-b1ea-bf94b14c3bf7"
      },
      "source": [
        "# select image from testing data from 0-9999\n",
        "plt.imshow(test_images[0])"
      ],
      "execution_count": null,
      "outputs": [
        {
          "output_type": "execute_result",
          "data": {
            "text/plain": [
              "<matplotlib.image.AxesImage at 0x7f46ce2c6a90>"
            ]
          },
          "metadata": {
            "tags": []
          },
          "execution_count": 12
        },
        {
          "output_type": "display_data",
          "data": {
            "image/png": "[encoded data removed]",
            "text/plain": [
              "<Figure size 432x288 with 1 Axes>"
            ]
          },
          "metadata": {
            "tags": [],
            "needs_background": "light"
          }
        }
      ]
    },
    {
      "cell_type": "code",
      "metadata": {
        "colab": {
          "base_uri": "https://localhost:8080/"
        },
        "id": "hWkJFp5bad6N",
        "outputId": "1d538dfa-a600-47db-a42f-5aa381d4a645"
      },
      "source": [
        "# run model to predict the number of the image\n",
        "prediction=model.predict(test_images)\n",
        "\"\"\"np.argmax finds the neuron with the highest probability.\"\"\"\n",
        "print(\"The number is:\", np.argmax(prediction[0]))"
      ],
      "execution_count": null,
      "outputs": [
        {
          "output_type": "stream",
          "text": [
            "The number is: 7\n"
          ],
          "name": "stdout"
        }
      ]
    },
    {
      "cell_type": "code",
      "metadata": {
        "colab": {
          "base_uri": "https://localhost:8080/",
          "height": 282
        },
        "id": "737nFcYQajNn",
        "outputId": "39eeb205-133f-42a4-90a1-acc1bd3047a3"
      },
      "source": [
        "# select image from testing data from 0-9999\n",
        "plt.imshow(test_images[1])"
      ],
      "execution_count": null,
      "outputs": [
        {
          "output_type": "execute_result",
          "data": {
            "text/plain": [
              "<matplotlib.image.AxesImage at 0x7f46cda62358>"
            ]
          },
          "metadata": {
            "tags": []
          },
          "execution_count": 14
        },
        {
          "output_type": "display_data",
          "data": {
            "image/png": "[encoded data removed]",
            "text/plain": [
              "<Figure size 432x288 with 1 Axes>"
            ]
          },
          "metadata": {
            "tags": [],
            "needs_background": "light"
          }
        }
      ]
    },
    {
      "cell_type": "code",
      "metadata": {
        "colab": {
          "base_uri": "https://localhost:8080/"
        },
        "id": "YLSpyTR-aj5x",
        "outputId": "35928894-0a96-4743-b237-f69a7f1b1017"
      },
      "source": [
        "# run model to predict the number of the image\n",
        "prediction=model.predict(test_images)\n",
        "\"\"\"np.argmax finds the neuron with the highest probability.\"\"\"\n",
        "print(\"The number is:\", np.argmax(prediction[1]))"
      ],
      "execution_count": null,
      "outputs": [
        {
          "output_type": "stream",
          "text": [
            "The number is: 2\n"
          ],
          "name": "stdout"
        }
      ]
    },
    {
      "cell_type": "code",
      "metadata": {
        "colab": {
          "base_uri": "https://localhost:8080/",
          "height": 282
        },
        "id": "iHX1tUhAa1a6",
        "outputId": "18ad688e-0f05-4562-ae38-5ae65ea23dfa"
      },
      "source": [
        "# select image from testing data from 0-9999\n",
        "plt.imshow(test_images[2])"
      ],
      "execution_count": null,
      "outputs": [
        {
          "output_type": "execute_result",
          "data": {
            "text/plain": [
              "<matplotlib.image.AxesImage at 0x7f46cda36f28>"
            ]
          },
          "metadata": {
            "tags": []
          },
          "execution_count": 16
        },
        {
          "output_type": "display_data",
          "data": {
            "image/png": "[encoded data removed]",
            "text/plain": [
              "<Figure size 432x288 with 1 Axes>"
            ]
          },
          "metadata": {
            "tags": [],
            "needs_background": "light"
          }
        }
      ]
    },
    {
      "cell_type": "code",
      "metadata": {
        "colab": {
          "base_uri": "https://localhost:8080/"
        },
        "id": "N-TWwGHYa1du",
        "outputId": "b26e7481-82af-4989-d386-d659d4c39438"
      },
      "source": [
        "# run model to predict the number of the image\n",
        "prediction=model.predict(test_images)\n",
        "\"\"\"np.argmax finds the neuron with the highest probability.\"\"\"\n",
        "print(\"The number is:\", np.argmax(prediction[2]))"
      ],
      "execution_count": null,
      "outputs": [
        {
          "output_type": "stream",
          "text": [
            "The number is: 1\n"
          ],
          "name": "stdout"
        }
      ]
    },
    {
      "cell_type": "code",
      "metadata": {
        "colab": {
          "base_uri": "https://localhost:8080/",
          "height": 282
        },
        "id": "cb57JlV_a7PQ",
        "outputId": "fab9ec1d-7a5f-4307-abb2-1c1aea113048"
      },
      "source": [
        "# select image from testing data from 0-9999\n",
        "plt.imshow(test_images[3])"
      ],
      "execution_count": null,
      "outputs": [
        {
          "output_type": "execute_result",
          "data": {
            "text/plain": [
              "<matplotlib.image.AxesImage at 0x7f46cd99abe0>"
            ]
          },
          "metadata": {
            "tags": []
          },
          "execution_count": 18
        },
        {
          "output_type": "display_data",
          "data": {
            "image/png": "[encoded data removed]",
            "text/plain": [
              "<Figure size 432x288 with 1 Axes>"
            ]
          },
          "metadata": {
            "tags": [],
            "needs_background": "light"
          }
        }
      ]
    },
    {
      "cell_type": "code",
      "metadata": {
        "colab": {
          "base_uri": "https://localhost:8080/"
        },
        "id": "Kun5Lsyza7Wc",
        "outputId": "cbe460e6-3657-479c-a2ce-07b96e45ca70"
      },
      "source": [
        "# run model to predict the number of the image\n",
        "prediction=model.predict(test_images)\n",
        "\"\"\"np.argmax finds the neuron with the highest probability.\"\"\"\n",
        "print(\"The number is:\", np.argmax(prediction[3]))"
      ],
      "execution_count": null,
      "outputs": [
        {
          "output_type": "stream",
          "text": [
            "The number is: 0\n"
          ],
          "name": "stdout"
        }
      ]
    },
    {
      "cell_type": "code",
      "metadata": {
        "colab": {
          "base_uri": "https://localhost:8080/",
          "height": 282
        },
        "id": "AX7aL6D7bAQq",
        "outputId": "44857c1a-d0a6-4563-f34a-eb78ee3986dd"
      },
      "source": [
        "# select image from testing data from 0-9999\n",
        "plt.imshow(test_images[4])"
      ],
      "execution_count": null,
      "outputs": [
        {
          "output_type": "execute_result",
          "data": {
            "text/plain": [
              "<matplotlib.image.AxesImage at 0x7f46cd8fb898>"
            ]
          },
          "metadata": {
            "tags": []
          },
          "execution_count": 20
        },
        {
          "output_type": "display_data",
          "data": {
            "image/png": "[encoded data removed]",
            "text/plain": [
              "<Figure size 432x288 with 1 Axes>"
            ]
          },
          "metadata": {
            "tags": [],
            "needs_background": "light"
          }
        }
      ]
    },
    {
      "cell_type": "code",
      "metadata": {
        "colab": {
          "base_uri": "https://localhost:8080/"
        },
        "id": "yJt7QIZgbAVi",
        "outputId": "5eb060fb-7a21-402e-f310-499976a7337e"
      },
      "source": [
        "# run model to predict the number of the image\n",
        "prediction=model.predict(test_images)\n",
        "\"\"\"np.argmax finds the neuron with the highest probability.\"\"\"\n",
        "print(\"The number is:\", np.argmax(prediction[4]))"
      ],
      "execution_count": null,
      "outputs": [
        {
          "output_type": "stream",
          "text": [
            "The number is: 4\n"
          ],
          "name": "stdout"
        }
      ]
    },
    {
      "cell_type": "code",
      "metadata": {
        "colab": {
          "base_uri": "https://localhost:8080/",
          "height": 282
        },
        "id": "zOaQdM4DbHHW",
        "outputId": "d341b101-7a13-4da4-a26c-3b1d3750f8c4"
      },
      "source": [
        "# select image from testing data from 0-9999\n",
        "plt.imshow(test_images[7])"
      ],
      "execution_count": null,
      "outputs": [
        {
          "output_type": "execute_result",
          "data": {
            "text/plain": [
              "<matplotlib.image.AxesImage at 0x7f46cd8da550>"
            ]
          },
          "metadata": {
            "tags": []
          },
          "execution_count": 22
        },
        {
          "output_type": "display_data",
          "data": {
            "image/png": "[encoded data removed]",
            "text/plain": [
              "<Figure size 432x288 with 1 Axes>"
            ]
          },
          "metadata": {
            "tags": [],
            "needs_background": "light"
          }
        }
      ]
    },
    {
      "cell_type": "code",
      "metadata": {
        "colab": {
          "base_uri": "https://localhost:8080/"
        },
        "id": "dQ_yirpzbHKl",
        "outputId": "d0559155-10d6-4796-fd6e-3002f3081f4e"
      },
      "source": [
        "# run model to predict the number of the image\n",
        "prediction=model.predict(test_images)\n",
        "\"\"\"np.argmax finds the neuron with the highest probability.\"\"\"\n",
        "print(\"The number is:\", np.argmax(prediction[7]))"
      ],
      "execution_count": null,
      "outputs": [
        {
          "output_type": "stream",
          "text": [
            "The number is: 9\n"
          ],
          "name": "stdout"
        }
      ]
    },
    {
      "cell_type": "code",
      "metadata": {
        "colab": {
          "base_uri": "https://localhost:8080/",
          "height": 282
        },
        "id": "aVkWYWYVbPrw",
        "outputId": "ecf2522d-89b0-44cb-c59b-2c70b7382314"
      },
      "source": [
        "# select image from testing data from 0-9999\n",
        "plt.imshow(test_images[8])"
      ],
      "execution_count": null,
      "outputs": [
        {
          "output_type": "execute_result",
          "data": {
            "text/plain": [
              "<matplotlib.image.AxesImage at 0x7f46cd83e2b0>"
            ]
          },
          "metadata": {
            "tags": []
          },
          "execution_count": 24
        },
        {
          "output_type": "display_data",
          "data": {
            "image/png": "[encoded data removed]",
            "text/plain": [
              "<Figure size 432x288 with 1 Axes>"
            ]
          },
          "metadata": {
            "tags": [],
            "needs_background": "light"
          }
        }
      ]
    },
    {
      "cell_type": "code",
      "metadata": {
        "colab": {
          "base_uri": "https://localhost:8080/"
        },
        "id": "ea2cNOaHbPuw",
        "outputId": "7fb0cb02-bd9c-4402-c62f-1d9893c6927f"
      },
      "source": [
        "# run model to predict the number of the image\n",
        "prediction=model.predict(test_images)\n",
        "\"\"\"np.argmax finds the neuron with the highest probability.\"\"\"\n",
        "print(\"The number is:\", np.argmax(prediction[8]))"
      ],
      "execution_count": null,
      "outputs": [
        {
          "output_type": "stream",
          "text": [
            "The number is: 5\n"
          ],
          "name": "stdout"
        }
      ]
    },
    {
      "cell_type": "code",
      "metadata": {
        "colab": {
          "base_uri": "https://localhost:8080/",
          "height": 282
        },
        "id": "zX2hSs23bWZs",
        "outputId": "19fb80c1-9e98-40da-f826-2e9d70ab46f3"
      },
      "source": [
        "# select image from testing data from 0-9999\n",
        "plt.imshow(test_images[18])"
      ],
      "execution_count": null,
      "outputs": [
        {
          "output_type": "execute_result",
          "data": {
            "text/plain": [
              "<matplotlib.image.AxesImage at 0x7f46cd814f28>"
            ]
          },
          "metadata": {
            "tags": []
          },
          "execution_count": 26
        },
        {
          "output_type": "display_data",
          "data": {
            "image/png": "[encoded data removed]",
            "text/plain": [
              "<Figure size 432x288 with 1 Axes>"
            ]
          },
          "metadata": {
            "tags": [],
            "needs_background": "light"
          }
        }
      ]
    },
    {
      "cell_type": "code",
      "metadata": {
        "colab": {
          "base_uri": "https://localhost:8080/"
        },
        "id": "dNcGsmSrbWct",
        "outputId": "734beda0-f597-4da0-d596-7c8060cdb6db"
      },
      "source": [
        "# run model to predict the number of the image\n",
        "prediction=model.predict(test_images)\n",
        "\"\"\"np.argmax finds the neuron with the highest probability.\"\"\"\n",
        "print(\"The number is:\", np.argmax(prediction[18]))"
      ],
      "execution_count": null,
      "outputs": [
        {
          "output_type": "stream",
          "text": [
            "The number is: 3\n"
          ],
          "name": "stdout"
        }
      ]
    },
    {
      "cell_type": "code",
      "metadata": {
        "colab": {
          "base_uri": "https://localhost:8080/"
        },
        "id": "7tAF6pd-cCrP",
        "outputId": "b320181b-6468-474d-b47f-46c3cf20eab1"
      },
      "source": [
        "# select image from testing data from 0-9999\n",
        "plt.imshow(test_images[61])"
      ],
      "execution_count": null,
      "outputs": [
        {
          "output_type": "execute_result",
          "data": {
            "text/plain": [
              "<matplotlib.image.AxesImage at 0x7f46cd7f5be0>"
            ]
          },
          "metadata": {
            "tags": []
          },
          "execution_count": 28
        },
        {
          "output_type": "display_data",
          "data": {
            "image/png": "[encoded data removed]",
            "text/plain": [
              "<Figure size 432x288 with 1 Axes>"
            ]
          },
          "metadata": {
            "tags": [],
            "needs_background": "light"
          }
        }
      ]
    },
    {
      "cell_type": "code",
      "metadata": {
        "colab": {
          "base_uri": "https://localhost:8080/"
        },
        "id": "t1htUbgvcCwY",
        "outputId": "311fb0a2-6d4e-4288-c8d0-637b17486c01"
      },
      "source": [
        "# run model to predict the number of the image\n",
        "prediction=model.predict(test_images)\n",
        "\"\"\"np.argmax finds the neuron with the highest probability.\"\"\"\n",
        "print(\"The number is:\", np.argmax(prediction[61]))"
      ],
      "execution_count": null,
      "outputs": [
        {
          "output_type": "stream",
          "text": [
            "The number is: 8\n"
          ],
          "name": "stdout"
        }
      ]
    },
    {
      "cell_type": "code",
      "metadata": {
        "colab": {
          "base_uri": "https://localhost:8080/",
          "height": 532
        },
        "id": "OvZldeQD33KL",
        "outputId": "d168f3c7-61ad-4824-c471-476b4daefdf6"
      },
      "source": [
        "# SHOW CONFUSION MATRIX\n",
        "\n",
        "def plot_confusion_matrix(cm, test_images,\n",
        "                          normalize=False,\n",
        "                          title='Confusion matrix',\n",
        "                          cmap=plt.cm.Blues):\n",
        "  \"\"\"\n",
        "  This function prints and plots the confusion matrix.\n",
        "  Normalization can be applied by setting `normalize=True`.\n",
        "  \"\"\"\n",
        "  if normalize:\n",
        "      cm = cm.astype('float') / cm.sum(axis=1)[:, np.newaxis]\n",
        "      cm = cm * 100\n",
        "      print(\"\\nNormalized confusion matrix\")\n",
        "  else:\n",
        "      print('\\nConfusion matrix')\n",
        "  print(cm)\n",
        "  print ()\n",
        "\n",
        "  plt.imshow(cm, interpolation='nearest', cmap=cmap)\n",
        "  plt.title(title)\n",
        "  plt.colorbar()\n",
        "  tick_marks = np.arange(len(test_images))\n",
        "  plt.xticks(tick_marks, test_images, rotation=45)\n",
        "  plt.yticks(tick_marks, test_images)\n",
        "\n",
        "  fmt = '.0f' if normalize else 'd'\n",
        "  thresh = cm.max() / 2.\n",
        "  for i, j in itertools.product(range(cm.shape[0]), range(cm.shape[1])):\n",
        "      plt.text(j, i, format(cm[i, j], fmt),\n",
        "                horizontalalignment=\"center\",\n",
        "                color=\"white\" if cm[i, j] > thresh else \"black\")\n",
        "\n",
        "  plt.tight_layout()\n",
        "  plt.ylabel('True label')\n",
        "  plt.xlabel('Predicted label')\n",
        "  plt.show()\n",
        "\n",
        "# Compute confusion matrix\n",
        "y_pred = np.argmax(prediction, axis=1)\n",
        "cnf_matrix = confusion_matrix(test_labels, y_pred)\n",
        "np.set_printoptions(precision=2) # set NumPy to 2 decimal places\n",
        "\n",
        "# Plot non-normalized confusion matrix\n",
        "plt.figure()\n",
        "plot_confusion_matrix(cnf_matrix, test_images=class_names,\n",
        "                      title='Confusion matrix')"
      ],
      "execution_count": 32,
      "outputs": [
        {
          "output_type": "stream",
          "text": [
            "\n",
            "Confusion matrix\n",
            "[[ 970    0    0    0    2    0    1    1    5    1]\n",
            " [   0 1111    3    1    0    0    2    2   15    1]\n",
            " [   0    0 1011    2    2    0    1    5   10    1]\n",
            " [   2    0    4  987    1    1    0    4   10    1]\n",
            " [   0    0    2    0  952    1    3    0    4   20]\n",
            " [   2    0    0    9    1  865    1    1   10    3]\n",
            " [   6    2    1    0    7    5  930    2    4    1]\n",
            " [   2    1    8    2    0    0    0 1002    5    8]\n",
            " [   7    0    3    2    2    0    0    2  957    1]\n",
            " [   1    2    0    3    6    2    1    3    4  987]]\n",
            "\n"
          ],
          "name": "stdout"
        },
        {
          "output_type": "display_data",
          "data": {
            "image/png": "[encoded data removed]",
            "text/plain": [
              "<Figure size 432x288 with 2 Axes>"
            ]
          },
          "metadata": {
            "tags": [],
            "needs_background": "light"
          }
        }
      ]
    }
  ]
}