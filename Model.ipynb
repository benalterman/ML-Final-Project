{
  "nbformat": 4,
  "nbformat_minor": 0,
  "metadata": {
    "colab": {
      "name": "CSC 3730 ML Final Project",
      "provenance": [],
      "collapsed_sections": []
    },
    "kernelspec": {
      "name": "python3",
      "display_name": "Python 3"
    }
  },
  "cells": [
    {
      "cell_type": "markdown",
      "metadata": {
        "id": "5sl6xImaz0jK"
      },
      "source": [
        "\n",
        "\n",
        "\n",
        "Benjamin Alterman, Adam Kardorff, Jorie Noll, Uluc Ozdenvar\n",
        "\n"
      ]
    },
    {
      "cell_type": "markdown",
      "metadata": {
        "id": "P44E76pJ2hlN"
      },
      "source": [
        "# **Handwritten Text Recognition using Neural Networks**"
      ]
    },
    {
      "cell_type": "code",
      "metadata": {
        "id": "qj6O6BYYzy5d"
      },
      "source": [
        "# imports\n",
        "import numpy as np\n",
        "import matplotlib.pyplot as plt\n",
        "import tensorflow as tf\n",
        "from sklearn.metrics import confusion_matrix\n",
        "import itertools"
      ],
      "execution_count": 33,
      "outputs": []
    },
    {
      "cell_type": "code",
      "metadata": {
        "id": "GkAQLrfx29y3"
      },
      "source": [
        "# data source is MNIST of handwritten digits http://yann.lecun.com/exdb/mnist/\n",
        "# prepare data for model\n",
        "objects =  tf.keras.datasets.mnist\n",
        "(training_images, training_labels), (test_images, test_labels) = objects.load_data()\n",
        "class_names = [0, 1, 2, 3, 4, 5, 6, 7, 8, 9]"
      ],
      "execution_count": 34,
      "outputs": []
    },
    {
      "cell_type": "code",
      "metadata": {
        "id": "se0TbRaT3Lns",
        "colab": {
          "base_uri": "https://localhost:8080/",
          "height": 268
        },
        "outputId": "d45603db-9d23-431c-e522-dba57196d65c"
      },
      "source": [
        "# iterate through images dataset and print samples\n",
        "for i in range(9):\n",
        "\t# define subplot\n",
        "\tplt.subplot(330 + 1 + i)\n",
        "\t# plot raw pixel data\n",
        "\tplt.imshow(training_images[i])"
      ],
      "execution_count": 35,
      "outputs": [
        {
          "output_type": "display_data",
          "data": {
            "image/png": "[encoded data removed]",
            "text/plain": [
              "<Figure size 432x288 with 9 Axes>"
            ]
          },
          "metadata": {
            "tags": [],
            "needs_background": "light"
          }
        }
      ]
    },
    {
      "cell_type": "code",
      "metadata": {
        "colab": {
          "base_uri": "https://localhost:8080/"
        },
        "id": "cqzPOFIRJ38W",
        "outputId": "fae46feb-3bb2-4ae6-8ac0-e1c1df7fd40a"
      },
      "source": [
        "# print the matrix holding the training images data\n",
        "# 60000 training images and 10000 testing images that are 28x28 pixels\n",
        "# minimum value in matrix is 0 and maximum is 255 representing color of pixel\n",
        "print(training_images.shape)\n",
        "# print the the array\n",
        "print(training_images[0])"
      ],
      "execution_count": 36,
      "outputs": [
        {
          "output_type": "stream",
          "text": [
            "(60000, 28, 28)\n",
            "[[  0   0   0   0   0   0   0   0   0   0   0   0   0   0   0   0   0   0\n",
            "    0   0   0   0   0   0   0   0   0   0]\n",
            " [  0   0   0   0   0   0   0   0   0   0   0   0   0   0   0   0   0   0\n",
            "    0   0   0   0   0   0   0   0   0   0]\n",
            " [  0   0   0   0   0   0   0   0   0   0   0   0   0   0   0   0   0   0\n",
            "    0   0   0   0   0   0   0   0   0   0]\n",
            " [  0   0   0   0   0   0   0   0   0   0   0   0   0   0   0   0   0   0\n",
            "    0   0   0   0   0   0   0   0   0   0]\n",
            " [  0   0   0   0   0   0   0   0   0   0   0   0   0   0   0   0   0   0\n",
            "    0   0   0   0   0   0   0   0   0   0]\n",
            " [  0   0   0   0   0   0   0   0   0   0   0   0   3  18  18  18 126 136\n",
            "  175  26 166 255 247 127   0   0   0   0]\n",
            " [  0   0   0   0   0   0   0   0  30  36  94 154 170 253 253 253 253 253\n",
            "  225 172 253 242 195  64   0   0   0   0]\n",
            " [  0   0   0   0   0   0   0  49 238 253 253 253 253 253 253 253 253 251\n",
            "   93  82  82  56  39   0   0   0   0   0]\n",
            " [  0   0   0   0   0   0   0  18 219 253 253 253 253 253 198 182 247 241\n",
            "    0   0   0   0   0   0   0   0   0   0]\n",
            " [  0   0   0   0   0   0   0   0  80 156 107 253 253 205  11   0  43 154\n",
            "    0   0   0   0   0   0   0   0   0   0]\n",
            " [  0   0   0   0   0   0   0   0   0  14   1 154 253  90   0   0   0   0\n",
            "    0   0   0   0   0   0   0   0   0   0]\n",
            " [  0   0   0   0   0   0   0   0   0   0   0 139 253 190   2   0   0   0\n",
            "    0   0   0   0   0   0   0   0   0   0]\n",
            " [  0   0   0   0   0   0   0   0   0   0   0  11 190 253  70   0   0   0\n",
            "    0   0   0   0   0   0   0   0   0   0]\n",
            " [  0   0   0   0   0   0   0   0   0   0   0   0  35 241 225 160 108   1\n",
            "    0   0   0   0   0   0   0   0   0   0]\n",
            " [  0   0   0   0   0   0   0   0   0   0   0   0   0  81 240 253 253 119\n",
            "   25   0   0   0   0   0   0   0   0   0]\n",
            " [  0   0   0   0   0   0   0   0   0   0   0   0   0   0  45 186 253 253\n",
            "  150  27   0   0   0   0   0   0   0   0]\n",
            " [  0   0   0   0   0   0   0   0   0   0   0   0   0   0   0  16  93 252\n",
            "  253 187   0   0   0   0   0   0   0   0]\n",
            " [  0   0   0   0   0   0   0   0   0   0   0   0   0   0   0   0   0 249\n",
            "  253 249  64   0   0   0   0   0   0   0]\n",
            " [  0   0   0   0   0   0   0   0   0   0   0   0   0   0  46 130 183 253\n",
            "  253 207   2   0   0   0   0   0   0   0]\n",
            " [  0   0   0   0   0   0   0   0   0   0   0   0  39 148 229 253 253 253\n",
            "  250 182   0   0   0   0   0   0   0   0]\n",
            " [  0   0   0   0   0   0   0   0   0   0  24 114 221 253 253 253 253 201\n",
            "   78   0   0   0   0   0   0   0   0   0]\n",
            " [  0   0   0   0   0   0   0   0  23  66 213 253 253 253 253 198  81   2\n",
            "    0   0   0   0   0   0   0   0   0   0]\n",
            " [  0   0   0   0   0   0  18 171 219 253 253 253 253 195  80   9   0   0\n",
            "    0   0   0   0   0   0   0   0   0   0]\n",
            " [  0   0   0   0  55 172 226 253 253 253 253 244 133  11   0   0   0   0\n",
            "    0   0   0   0   0   0   0   0   0   0]\n",
            " [  0   0   0   0 136 253 253 253 212 135 132  16   0   0   0   0   0   0\n",
            "    0   0   0   0   0   0   0   0   0   0]\n",
            " [  0   0   0   0   0   0   0   0   0   0   0   0   0   0   0   0   0   0\n",
            "    0   0   0   0   0   0   0   0   0   0]\n",
            " [  0   0   0   0   0   0   0   0   0   0   0   0   0   0   0   0   0   0\n",
            "    0   0   0   0   0   0   0   0   0   0]\n",
            " [  0   0   0   0   0   0   0   0   0   0   0   0   0   0   0   0   0   0\n",
            "    0   0   0   0   0   0   0   0   0   0]]\n"
          ],
          "name": "stdout"
        }
      ]
    },
    {
      "cell_type": "code",
      "metadata": {
        "id": "cfPfFjhAKe4K"
      },
      "source": [
        "# normalize data to a range of 0 to 1 to increase speed of the model\n",
        "training_images  = training_images / 255.0\n",
        "test_images = test_images / 255.0"
      ],
      "execution_count": 37,
      "outputs": []
    },
    {
      "cell_type": "code",
      "metadata": {
        "id": "qSpvkLhNKyL-"
      },
      "source": [
        "# build the neural network using sequential layers of neurons\n",
        "\"\"\"A Sequential model is appropriate for a plain stack of layers where each layer has exactly one input tensor and one output tensor.\n",
        "Flatten input 2d shape into 1 dimension. The dense layer ensures that each neuron in previous layer is connected to a neuron in \n",
        "the next layer. 128 neurons were selected for the hidden layer. The rectified linear activation function or ReLU for short is a piecewise \n",
        "linear function that will output the input directly if it is positive, otherwise, it will output zero. \n",
        "The main advantage of using the ReLU function over other activation functions is that it does not activate all the neurons at the same time.\n",
        "10 neurons in the output layer for 10 classes from 0-9. The softmax function is a function that turns a vector \n",
        "of K real values into a vector of K real values that sum to 1. The input values can be positive, negative, zero, or \n",
        "greater than one, but the softmax transforms them into values between 0 and 1, so that they can be interpreted as probabilities. \n",
        "It is a form of multiclass logistic regression.\"\"\"\n",
        "model = tf.keras.models.Sequential([tf.keras.layers.Flatten(input_shape=(28,28)), \n",
        "                                    tf.keras.layers.Dense(128, activation='relu'), \n",
        "                                    tf.keras.layers.Dense(10, activation=tf.nn.softmax)])"
      ],
      "execution_count": 38,
      "outputs": []
    },
    {
      "cell_type": "code",
      "metadata": {
        "id": "_-pXllF7Mk9V"
      },
      "source": [
        "# compile the Keras model\n",
        "\"\"\"Adam optimization is a stochastic gradient descent method that is based on adaptive estimation of first-order and second-order moments.\n",
        "Sparse Categorical Crossentropy computes the crossentropy loss between the labels and predictions.\"\"\"\n",
        "model.compile(optimizer = 'adam',\n",
        "              loss = 'sparse_categorical_crossentropy',\n",
        "              metrics=['accuracy'])"
      ],
      "execution_count": 39,
      "outputs": []
    },
    {
      "cell_type": "code",
      "metadata": {
        "colab": {
          "base_uri": "https://localhost:8080/"
        },
        "id": "vHC64xp0QyF7",
        "outputId": "0b035d03-953b-4642-9bd4-bb0206dfc46a"
      },
      "source": [
        "# fit the model to the training data\n",
        "\"\"\"An epoch refers to one iteration through the training data. Accuracy reaches 99% in the 7th epoch.\"\"\"\n",
        "model.fit(training_images, training_labels, epochs=7)"
      ],
      "execution_count": 40,
      "outputs": [
        {
          "output_type": "stream",
          "text": [
            "Epoch 1/7\n",
            "1875/1875 [==============================] - 3s 2ms/step - loss: 0.2545 - accuracy: 0.9278\n",
            "Epoch 2/7\n",
            "1875/1875 [==============================] - 3s 1ms/step - loss: 0.1108 - accuracy: 0.9663\n",
            "Epoch 3/7\n",
            "1875/1875 [==============================] - 3s 2ms/step - loss: 0.0753 - accuracy: 0.9769\n",
            "Epoch 4/7\n",
            "1875/1875 [==============================] - 3s 2ms/step - loss: 0.0570 - accuracy: 0.9823\n",
            "Epoch 5/7\n",
            "1875/1875 [==============================] - 3s 2ms/step - loss: 0.0432 - accuracy: 0.9862\n",
            "Epoch 6/7\n",
            "1875/1875 [==============================] - 3s 2ms/step - loss: 0.0344 - accuracy: 0.9895\n",
            "Epoch 7/7\n",
            "1875/1875 [==============================] - 3s 2ms/step - loss: 0.0280 - accuracy: 0.9912\n"
          ],
          "name": "stdout"
        },
        {
          "output_type": "execute_result",
          "data": {
            "text/plain": [
              "<tensorflow.python.keras.callbacks.History at 0x7f46cb3d2470>"
            ]
          },
          "metadata": {
            "tags": []
          },
          "execution_count": 40
        }
      ]
    },
    {
      "cell_type": "code",
      "metadata": {
        "colab": {
          "base_uri": "https://localhost:8080/"
        },
        "id": "LF9OjS0aRzru",
        "outputId": "2f2893b3-2199-43a6-c072-9716085b4c92"
      },
      "source": [
        "# evaluate model on the held out testing data and print the accuracy\n",
        "print(model.evaluate(test_images,test_labels))"
      ],
      "execution_count": 41,
      "outputs": [
        {
          "output_type": "stream",
          "text": [
            "313/313 [==============================] - 0s 1ms/step - loss: 0.0852 - accuracy: 0.9773\n",
            "[0.08518274873495102, 0.9772999882698059]\n"
          ],
          "name": "stdout"
        }
      ]
    },
    {
      "cell_type": "code",
      "metadata": {
        "colab": {
          "base_uri": "https://localhost:8080/",
          "height": 282
        },
        "id": "0aApNX26adEZ",
        "outputId": "794a5466-dc3f-4c51-bf92-a611552376b1"
      },
      "source": [
        "# select image from testing data from 0-9999\n",
        "plt.imshow(test_images[3000])"
      ],
      "execution_count": 42,
      "outputs": [
        {
          "output_type": "execute_result",
          "data": {
            "text/plain": [
              "<matplotlib.image.AxesImage at 0x7f46ca225278>"
            ]
          },
          "metadata": {
            "tags": []
          },
          "execution_count": 42
        },
        {
          "output_type": "display_data",
          "data": {
            "image/png": "[encoded data removed]",
            "text/plain": [
              "<Figure size 432x288 with 1 Axes>"
            ]
          },
          "metadata": {
            "tags": [],
            "needs_background": "light"
          }
        }
      ]
    },
    {
      "cell_type": "code",
      "metadata": {
        "colab": {
          "base_uri": "https://localhost:8080/"
        },
        "id": "Nk5cwdxtaeDG",
        "outputId": "4d7c0183-9391-4547-a526-5bf3f618465f"
      },
      "source": [
        "# run model to predict the number of the image\n",
        "prediction=model.predict(test_images)\n",
        "\"\"\"np.argmax finds the neuron with the highest probability.\"\"\"\n",
        "print(\"The number is:\", np.argmax(prediction[3000]))"
      ],
      "execution_count": 43,
      "outputs": [
        {
          "output_type": "stream",
          "text": [
            "The number is: 6\n"
          ],
          "name": "stdout"
        }
      ]
    },
    {
      "cell_type": "code",
      "metadata": {
        "colab": {
          "base_uri": "https://localhost:8080/",
          "height": 282
        },
        "id": "qSX8zZFkaRz1",
        "outputId": "60e7700b-504e-4484-8927-3708747d4923"
      },
      "source": [
        "# select image from testing data from 0-9999\n",
        "plt.imshow(test_images[0])"
      ],
      "execution_count": 44,
      "outputs": [
        {
          "output_type": "execute_result",
          "data": {
            "text/plain": [
              "<matplotlib.image.AxesImage at 0x7f46c91903c8>"
            ]
          },
          "metadata": {
            "tags": []
          },
          "execution_count": 44
        },
        {
          "output_type": "display_data",
          "data": {
            "image/png": "[encoded data removed]",
            "text/plain": [
              "<Figure size 432x288 with 1 Axes>"
            ]
          },
          "metadata": {
            "tags": [],
            "needs_background": "light"
          }
        }
      ]
    },
    {
      "cell_type": "code",
      "metadata": {
        "colab": {
          "base_uri": "https://localhost:8080/"
        },
        "id": "hWkJFp5bad6N",
        "outputId": "4ec03160-f2e1-4b1b-9700-c29520b60569"
      },
      "source": [
        "# run model to predict the number of the image\n",
        "prediction=model.predict(test_images)\n",
        "\"\"\"np.argmax finds the neuron with the highest probability.\"\"\"\n",
        "print(\"The number is:\", np.argmax(prediction[0]))"
      ],
      "execution_count": 45,
      "outputs": [
        {
          "output_type": "stream",
          "text": [
            "The number is: 7\n"
          ],
          "name": "stdout"
        }
      ]
    },
    {
      "cell_type": "code",
      "metadata": {
        "colab": {
          "base_uri": "https://localhost:8080/",
          "height": 282
        },
        "id": "737nFcYQajNn",
        "outputId": "906ae9be-f914-4faa-f986-c50ce398aa24"
      },
      "source": [
        "# select image from testing data from 0-9999\n",
        "plt.imshow(test_images[1])"
      ],
      "execution_count": 46,
      "outputs": [
        {
          "output_type": "execute_result",
          "data": {
            "text/plain": [
              "<matplotlib.image.AxesImage at 0x7f46c9172048>"
            ]
          },
          "metadata": {
            "tags": []
          },
          "execution_count": 46
        },
        {
          "output_type": "display_data",
          "data": {
            "image/png": "[encoded data removed]",
            "text/plain": [
              "<Figure size 432x288 with 1 Axes>"
            ]
          },
          "metadata": {
            "tags": [],
            "needs_background": "light"
          }
        }
      ]
    },
    {
      "cell_type": "code",
      "metadata": {
        "colab": {
          "base_uri": "https://localhost:8080/"
        },
        "id": "YLSpyTR-aj5x",
        "outputId": "05049235-21e0-4a32-cc65-77942155f17f"
      },
      "source": [
        "# run model to predict the number of the image\n",
        "prediction=model.predict(test_images)\n",
        "\"\"\"np.argmax finds the neuron with the highest probability.\"\"\"\n",
        "print(\"The number is:\", np.argmax(prediction[1]))"
      ],
      "execution_count": 47,
      "outputs": [
        {
          "output_type": "stream",
          "text": [
            "The number is: 2\n"
          ],
          "name": "stdout"
        }
      ]
    },
    {
      "cell_type": "code",
      "metadata": {
        "colab": {
          "base_uri": "https://localhost:8080/",
          "height": 282
        },
        "id": "iHX1tUhAa1a6",
        "outputId": "ee927acd-795f-4bc9-cc20-1e3da6ff0c73"
      },
      "source": [
        "# select image from testing data from 0-9999\n",
        "plt.imshow(test_images[2])"
      ],
      "execution_count": 48,
      "outputs": [
        {
          "output_type": "execute_result",
          "data": {
            "text/plain": [
              "<matplotlib.image.AxesImage at 0x7f46c90c4e10>"
            ]
          },
          "metadata": {
            "tags": []
          },
          "execution_count": 48
        },
        {
          "output_type": "display_data",
          "data": {
            "image/png": "[encoded data removed]",
            "text/plain": [
              "<Figure size 432x288 with 1 Axes>"
            ]
          },
          "metadata": {
            "tags": [],
            "needs_background": "light"
          }
        }
      ]
    },
    {
      "cell_type": "code",
      "metadata": {
        "colab": {
          "base_uri": "https://localhost:8080/"
        },
        "id": "N-TWwGHYa1du",
        "outputId": "c31d9273-1b34-423a-f068-68a5555544f4"
      },
      "source": [
        "# run model to predict the number of the image\n",
        "prediction=model.predict(test_images)\n",
        "\"\"\"np.argmax finds the neuron with the highest probability.\"\"\"\n",
        "print(\"The number is:\", np.argmax(prediction[2]))"
      ],
      "execution_count": 49,
      "outputs": [
        {
          "output_type": "stream",
          "text": [
            "The number is: 1\n"
          ],
          "name": "stdout"
        }
      ]
    },
    {
      "cell_type": "code",
      "metadata": {
        "colab": {
          "base_uri": "https://localhost:8080/",
          "height": 282
        },
        "id": "cb57JlV_a7PQ",
        "outputId": "1b4dae43-2a46-44fa-968c-50c0f48c2549"
      },
      "source": [
        "# select image from testing data from 0-9999\n",
        "plt.imshow(test_images[3])"
      ],
      "execution_count": 50,
      "outputs": [
        {
          "output_type": "execute_result",
          "data": {
            "text/plain": [
              "<matplotlib.image.AxesImage at 0x7f46c90a1908>"
            ]
          },
          "metadata": {
            "tags": []
          },
          "execution_count": 50
        },
        {
          "output_type": "display_data",
          "data": {
            "image/png": "[encoded data removed]",
            "text/plain": [
              "<Figure size 432x288 with 1 Axes>"
            ]
          },
          "metadata": {
            "tags": [],
            "needs_background": "light"
          }
        }
      ]
    },
    {
      "cell_type": "code",
      "metadata": {
        "colab": {
          "base_uri": "https://localhost:8080/"
        },
        "id": "Kun5Lsyza7Wc",
        "outputId": "90cb1d49-f8ef-443f-b9d3-2b61d5957246"
      },
      "source": [
        "# run model to predict the number of the image\n",
        "prediction=model.predict(test_images)\n",
        "\"\"\"np.argmax finds the neuron with the highest probability.\"\"\"\n",
        "print(\"The number is:\", np.argmax(prediction[3]))"
      ],
      "execution_count": 51,
      "outputs": [
        {
          "output_type": "stream",
          "text": [
            "The number is: 0\n"
          ],
          "name": "stdout"
        }
      ]
    },
    {
      "cell_type": "code",
      "metadata": {
        "colab": {
          "base_uri": "https://localhost:8080/",
          "height": 282
        },
        "id": "AX7aL6D7bAQq",
        "outputId": "94abc08d-939a-4259-8988-6da577815133"
      },
      "source": [
        "# select image from testing data from 0-9999\n",
        "plt.imshow(test_images[4])"
      ],
      "execution_count": 52,
      "outputs": [
        {
          "output_type": "execute_result",
          "data": {
            "text/plain": [
              "<matplotlib.image.AxesImage at 0x7f46c90045c0>"
            ]
          },
          "metadata": {
            "tags": []
          },
          "execution_count": 52
        },
        {
          "output_type": "display_data",
          "data": {
            "image/png": "[encoded data removed]",
            "text/plain": [
              "<Figure size 432x288 with 1 Axes>"
            ]
          },
          "metadata": {
            "tags": [],
            "needs_background": "light"
          }
        }
      ]
    },
    {
      "cell_type": "code",
      "metadata": {
        "colab": {
          "base_uri": "https://localhost:8080/"
        },
        "id": "yJt7QIZgbAVi",
        "outputId": "0f53347c-bf03-4d6d-e552-4f1888951f4b"
      },
      "source": [
        "# run model to predict the number of the image\n",
        "prediction=model.predict(test_images)\n",
        "\"\"\"np.argmax finds the neuron with the highest probability.\"\"\"\n",
        "print(\"The number is:\", np.argmax(prediction[4]))"
      ],
      "execution_count": 53,
      "outputs": [
        {
          "output_type": "stream",
          "text": [
            "The number is: 4\n"
          ],
          "name": "stdout"
        }
      ]
    },
    {
      "cell_type": "code",
      "metadata": {
        "colab": {
          "base_uri": "https://localhost:8080/",
          "height": 282
        },
        "id": "zOaQdM4DbHHW",
        "outputId": "2515594c-8d9f-4ccd-f57e-28357994b284"
      },
      "source": [
        "# select image from testing data from 0-9999\n",
        "plt.imshow(test_images[7])"
      ],
      "execution_count": 54,
      "outputs": [
        {
          "output_type": "execute_result",
          "data": {
            "text/plain": [
              "<matplotlib.image.AxesImage at 0x7f46c8fe42e8>"
            ]
          },
          "metadata": {
            "tags": []
          },
          "execution_count": 54
        },
        {
          "output_type": "display_data",
          "data": {
            "image/png": "[encoded data removed]",
            "text/plain": [
              "<Figure size 432x288 with 1 Axes>"
            ]
          },
          "metadata": {
            "tags": [],
            "needs_background": "light"
          }
        }
      ]
    },
    {
      "cell_type": "code",
      "metadata": {
        "colab": {
          "base_uri": "https://localhost:8080/"
        },
        "id": "dQ_yirpzbHKl",
        "outputId": "98275f47-9e9a-447a-c8f9-3859bc1ede54"
      },
      "source": [
        "# run model to predict the number of the image\n",
        "prediction=model.predict(test_images)\n",
        "\"\"\"np.argmax finds the neuron with the highest probability.\"\"\"\n",
        "print(\"The number is:\", np.argmax(prediction[7]))"
      ],
      "execution_count": 55,
      "outputs": [
        {
          "output_type": "stream",
          "text": [
            "The number is: 9\n"
          ],
          "name": "stdout"
        }
      ]
    },
    {
      "cell_type": "code",
      "metadata": {
        "colab": {
          "base_uri": "https://localhost:8080/",
          "height": 282
        },
        "id": "aVkWYWYVbPrw",
        "outputId": "e534cb7e-e0b0-4e9e-bc5c-d74174897644"
      },
      "source": [
        "# select image from testing data from 0-9999\n",
        "plt.imshow(test_images[8])"
      ],
      "execution_count": 56,
      "outputs": [
        {
          "output_type": "execute_result",
          "data": {
            "text/plain": [
              "<matplotlib.image.AxesImage at 0x7f46c8f470b8>"
            ]
          },
          "metadata": {
            "tags": []
          },
          "execution_count": 56
        },
        {
          "output_type": "display_data",
          "data": {
            "image/png": "[encoded data removed]",
            "text/plain": [
              "<Figure size 432x288 with 1 Axes>"
            ]
          },
          "metadata": {
            "tags": [],
            "needs_background": "light"
          }
        }
      ]
    },
    {
      "cell_type": "code",
      "metadata": {
        "colab": {
          "base_uri": "https://localhost:8080/"
        },
        "id": "ea2cNOaHbPuw",
        "outputId": "6429b0da-aad5-40a1-fb28-c67883fb7d7d"
      },
      "source": [
        "# run model to predict the number of the image\n",
        "prediction=model.predict(test_images)\n",
        "\"\"\"np.argmax finds the neuron with the highest probability.\"\"\"\n",
        "print(\"The number is:\", np.argmax(prediction[8]))"
      ],
      "execution_count": 57,
      "outputs": [
        {
          "output_type": "stream",
          "text": [
            "The number is: 5\n"
          ],
          "name": "stdout"
        }
      ]
    },
    {
      "cell_type": "code",
      "metadata": {
        "colab": {
          "base_uri": "https://localhost:8080/",
          "height": 282
        },
        "id": "zX2hSs23bWZs",
        "outputId": "a17e303b-9d48-4931-f69f-6db19132db62"
      },
      "source": [
        "# select image from testing data from 0-9999\n",
        "plt.imshow(test_images[18])"
      ],
      "execution_count": 58,
      "outputs": [
        {
          "output_type": "execute_result",
          "data": {
            "text/plain": [
              "<matplotlib.image.AxesImage at 0x7f46cb39de10>"
            ]
          },
          "metadata": {
            "tags": []
          },
          "execution_count": 58
        },
        {
          "output_type": "display_data",
          "data": {
            "image/png": "[encoded data removed]",
            "text/plain": [
              "<Figure size 432x288 with 1 Axes>"
            ]
          },
          "metadata": {
            "tags": [],
            "needs_background": "light"
          }
        }
      ]
    },
    {
      "cell_type": "code",
      "metadata": {
        "colab": {
          "base_uri": "https://localhost:8080/"
        },
        "id": "dNcGsmSrbWct",
        "outputId": "cce32241-7a11-40a1-dc86-3e46ede709a1"
      },
      "source": [
        "# run model to predict the number of the image\n",
        "prediction=model.predict(test_images)\n",
        "\"\"\"np.argmax finds the neuron with the highest probability.\"\"\"\n",
        "print(\"The number is:\", np.argmax(prediction[18]))"
      ],
      "execution_count": 59,
      "outputs": [
        {
          "output_type": "stream",
          "text": [
            "The number is: 3\n"
          ],
          "name": "stdout"
        }
      ]
    },
    {
      "cell_type": "code",
      "metadata": {
        "colab": {
          "base_uri": "https://localhost:8080/",
          "height": 282
        },
        "id": "7tAF6pd-cCrP",
        "outputId": "18a687aa-54b3-44cc-9c9e-66950f95d90d"
      },
      "source": [
        "# select image from testing data from 0-9999\n",
        "plt.imshow(test_images[61])"
      ],
      "execution_count": 60,
      "outputs": [
        {
          "output_type": "execute_result",
          "data": {
            "text/plain": [
              "<matplotlib.image.AxesImage at 0x7f46d797ac88>"
            ]
          },
          "metadata": {
            "tags": []
          },
          "execution_count": 60
        },
        {
          "output_type": "display_data",
          "data": {
            "image/png": "[encoded data removed]",
            "text/plain": [
              "<Figure size 432x288 with 1 Axes>"
            ]
          },
          "metadata": {
            "tags": [],
            "needs_background": "light"
          }
        }
      ]
    },
    {
      "cell_type": "code",
      "metadata": {
        "colab": {
          "base_uri": "https://localhost:8080/"
        },
        "id": "t1htUbgvcCwY",
        "outputId": "4c0c5925-b8d0-4e41-8082-199ac5cbf32a"
      },
      "source": [
        "# run model to predict the number of the image\n",
        "prediction=model.predict(test_images)\n",
        "\"\"\"np.argmax finds the neuron with the highest probability.\"\"\"\n",
        "print(\"The number is:\", np.argmax(prediction[61]))"
      ],
      "execution_count": 61,
      "outputs": [
        {
          "output_type": "stream",
          "text": [
            "The number is: 8\n"
          ],
          "name": "stdout"
        }
      ]
    },
    {
      "cell_type": "code",
      "metadata": {
        "colab": {
          "base_uri": "https://localhost:8080/",
          "height": 532
        },
        "id": "OvZldeQD33KL",
        "outputId": "50b83af0-5bb5-481f-b0ed-b9017bf5c55c"
      },
      "source": [
        "# SBuild Confusion Matrix\n",
        "\n",
        "def plot_confusion_matrix(cm, test_images,\n",
        "                          normalize=False,\n",
        "                          title='Confusion matrix',\n",
        "                          cmap=plt.cm.Blues):\n",
        "  \n",
        "  print('\\nConfusion matrix')\n",
        "  print(cm)\n",
        "  print ()\n",
        "\n",
        "  plt.imshow(cm, interpolation='nearest', cmap=cmap)\n",
        "  plt.title(title)\n",
        "  plt.colorbar()\n",
        "  tick_marks = np.arange(len(test_images))\n",
        "  plt.xticks(tick_marks, test_images, rotation=45)\n",
        "  plt.yticks(tick_marks, test_images)\n",
        "\n",
        "  fmt = '.0f' if normalize else 'd'\n",
        "  thresh = cm.max() / 2.\n",
        "  for i, j in itertools.product(range(cm.shape[0]), range(cm.shape[1])):\n",
        "      plt.text(j, i, format(cm[i, j], fmt),\n",
        "                horizontalalignment=\"center\",\n",
        "                color=\"white\" if cm[i, j] > thresh else \"black\")\n",
        "\n",
        "  plt.tight_layout()\n",
        "  plt.ylabel('True label')\n",
        "  plt.xlabel('Predicted label')\n",
        "  plt.show()\n",
        "\n",
        "# Compute confusion matrix\n",
        "y_pred = np.argmax(prediction, axis=1)\n",
        "cnf_matrix = confusion_matrix(test_labels, y_pred)\n",
        "np.set_printoptions(precision=2) # set NumPy to 2 decimal places\n",
        "\n",
        "# Plot confusion matrix\n",
        "plt.figure()\n",
        "plot_confusion_matrix(cnf_matrix, test_images=class_names,\n",
        "                      title='Confusion matrix')"
      ],
      "execution_count": 64,
      "outputs": [
        {
          "output_type": "stream",
          "text": [
            "\n",
            "Confusion matrix\n",
            "[[ 972    0    1    1    1    0    2    1    2    0]\n",
            " [   0 1126    4    0    0    0    2    0    3    0]\n",
            " [   3    1 1018    0    1    0    2    1    5    1]\n",
            " [   0    0   11  985    0    0    0    2    5    7]\n",
            " [   2    0    6    0  957    0    3    3    3    8]\n",
            " [   2    1    0   22    0  849    4    1    9    4]\n",
            " [   7    3    2    1    2    3  934    0    5    1]\n",
            " [   1    6   16    2    1    0    0  992    4    6]\n",
            " [   2    1    2    5    1    0    0    3  956    4]\n",
            " [   2    3    1    5    4    2    0    4    4  984]]\n",
            "\n"
          ],
          "name": "stdout"
        },
        {
          "output_type": "display_data",
          "data": {
            "image/png": "[encoded data removed]",
            "text/plain": [
              "<Figure size 432x288 with 2 Axes>"
            ]
          },
          "metadata": {
            "tags": [],
            "needs_background": "light"
          }
        }
      ]
    }
  ]
}